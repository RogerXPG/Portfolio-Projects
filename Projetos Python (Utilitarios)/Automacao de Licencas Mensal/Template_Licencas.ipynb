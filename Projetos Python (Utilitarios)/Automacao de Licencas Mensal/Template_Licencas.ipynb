{
 "cells": [
  {
   "attachments": {},
   "cell_type": "markdown",
   "metadata": {},
   "source": [
    "# Objetivo do Projeto\n",
    "Automatizar a coleta de dados de uso de licenças de todos os clientes internos, e inseri-los no arquivo Excel \"modelo\" referente a cada cliente.\n",
    "\n",
    "O sucesso desse projeto foi benéfico para todos na equipe que faziam o trabalho manual ligado a retirada mensal de licenças. Cerca de 3 pessoas trabalhando nessa demanda demoravam cerca de 2h seguidas! \n",
    "Mesmo sendo uma tarefa simples (consulta em banco, copiar e colar informações), realizar o mesmo processo diversas e diversas vezes em sequência e de forma manual retirava nosso foco nas demandas principais, e também, querendo ou não, éramos inclinados sempre a falha humana (copiar de forma errada, colar no arquivo modelo errado, etc)."
   ]
  },
  {
   "cell_type": "markdown",
   "metadata": {},
   "source": [
    "# Setup Principais Variáveis Passivas de Alteração"
   ]
  },
  {
   "cell_type": "code",
   "execution_count": 6,
   "metadata": {},
   "outputs": [],
   "source": [
    "from datetime import datetime as dt\n",
    "import pyodbc\n",
    "import pandas as pd\n",
    "import openpyxl\n",
    "\n",
    "# Armazena a data e hora completa do momento inicial da execução, e formata para \"DIA-MES-ANO\", ex: 01-01-2023\n",
    "now = dt.now()\n",
    "data_hoje = now.strftime('%d-%m-%Y')\n",
    "\n",
    "# Todos os dados como cliente, diretório e query/consuta em banco serão adaptados para ser somente algo fictício\n",
    "cliente = 'Ficticio'\n",
    "\n",
    "# Setup de diretórios importantes para funcionamento da aplicação\n",
    "dir_origem = r'C:\\Users\\roger\\Documents\\Origem'\n",
    "dir_destino = r'C:\\Users\\roger\\Documents\\Destino'\n",
    "dir_temporario = r'C:\\Users\\roger\\Documents\\Temporarios'\n",
    "\n",
    "# Nomenclatura de arquivo temporário padronizado, é alterado mais abaixo no código\n",
    "arquivo_temporario = f'tmp{cliente}'\n",
    "\n",
    "# Caso não seja um cliente multi_tnt, considerar o tnt01 como epro.\n",
    "arquivo_modelo = 'Cliente Ficticio 01 - Controle Licencas - XXX.xlsm'\n",
    "\n",
    "# IP ou hostname para conexão em banco de dados SQL Server (dados fictícios)\n",
    "server_pri = '192.168.0.1'\n",
    "server_sec = '192.168.0.2'"
   ]
  },
  {
   "cell_type": "markdown",
   "metadata": {},
   "source": [
    "# Setup ConnectionStrings + Query"
   ]
  },
  {
   "cell_type": "code",
   "execution_count": 7,
   "metadata": {},
   "outputs": [],
   "source": [
    "# Dados para criação da \"ConnectionString\" com banco de dados\n",
    "driver = 'SQL Server'\n",
    "user = 'admin'\n",
    "password = 'admin'\n",
    "db_utilizado = 'summary_main'\n",
    "\n",
    "# Cria objeto de connectionString, parametrizado a partir dos dados acima\n",
    "conn_string_server_pri = f'''DRIVER={driver}; SERVER={server_pri}; Database={db_utilizado}; UID={user}; PWD={password}; trusted_connection=no'''\n",
    "conn_string_server_sec = f''' DRIVER={driver}; SERVER={server_sec}; Database={db_utilizado}; UID={user}; PWD={password}; trusted_connection=no'''\n",
    "\n",
    "\n",
    "# Obs: a query/consulta em banco de dados foi modificada para também se tornar fictícia, apenas próxima a original\n",
    "query_retirar_licencas = '''\n",
    "select\n",
    "convert (varchar(10),[PeriodoInicio],103) as DATA,\n",
    "left (CONVERT (VARCHAR(20),DATEADD(HOUR,-3,PeriodoInicio),108),2) as HORA,\n",
    "MAX (QuantidadeLicenca) as USO\n",
    "\n",
    "from [dbo].[SumarioUsoLicenca] \n",
    "\n",
    "where Entitytypeid = 1\n",
    "and [PeriodoInicio] >= '2023-01-01 03:00:00'\n",
    "group by convert (varchar(10),[PeriodoInicio],103), left (CONVERT (VARCHAR(20),DATEADD(HOUR,-3,PeriodoInicio),108),2)\n",
    "order By convert (varchar(10),[PeriodoInicio],103), left (CONVERT (VARCHAR(20),DATEADD(HOUR,-3,PeriodoInicio),108),2) desc\n",
    "'''"
   ]
  },
  {
   "attachments": {},
   "cell_type": "markdown",
   "metadata": {},
   "source": [
    "# (Criação Função 1): Conexão DB + Consulta Licença + Criação Arquivo Temporario"
   ]
  },
  {
   "cell_type": "code",
   "execution_count": 8,
   "metadata": {},
   "outputs": [],
   "source": [
    "def ConexaoDB_ConfeccaoLicencaTemp(conn_String_UIP_PRI, conn_String_UIP_SEC, tnt_e_extensao):\n",
    "    # Retornará os dados baseados na connectionstring e query acima.\n",
    "    try:\n",
    "        with pyodbc.connect(conn_String_UIP_PRI) as connStringUIP:\n",
    "            consulta_temporario = pd.read_sql(query_retirar_licencas, connStringUIP)\n",
    "    except: \n",
    "        with pyodbc.connect(conn_String_UIP_SEC) as connStringUIP:\n",
    "            consulta_temporario = pd.read_sql(query_retirar_licencas, connStringUIP)\n",
    "    \n",
    "\n",
    "    # Com os dados acima coletados, os insere num novo arquivo Excel temporário.  \n",
    "    arquivo_temporario = consulta_temporario.to_excel(dir_temporario + '\\\\' + arquivo_temporario + tnt_e_extensao, index = False)"
   ]
  },
  {
   "attachments": {},
   "cell_type": "markdown",
   "metadata": {},
   "source": [
    "# (Criação Função 2): Uso do Arquivo Temporario + Criação Nova Planilha Final"
   ]
  },
  {
   "cell_type": "code",
   "execution_count": 9,
   "metadata": {},
   "outputs": [],
   "source": [
    "def Criacao_arquivo_final(arquivo_modelo, resultadoConsulta):\n",
    "    workbook_temporario = openpyxl.load_workbook(dir_temporario + '\\\\' + resultadoConsulta, read_only=False, keep_vba=True)\n",
    "    workbook_temporario_sheet = workbook_temporario.worksheets[0]\n",
    "\n",
    "    workbook_final = openpyxl.load_workbook(dir_origem + '\\\\' + arquivo_modelo, read_only=False, keep_vba=True)\n",
    "    \n",
    "    #Seleciona a aba \"BASE\" no arquivo Excel.\n",
    "    workbook_final_sheet = workbook_final['BASE']\n",
    "\n",
    "    # Variáveis que considerarão todas as linhas e colunas presentes no arquivo de licenças temporário \n",
    "    max_row = workbook_temporario_sheet.max_row\n",
    "    max_column = workbook_temporario_sheet.max_column\n",
    "    \n",
    "    for i in range(1, max_row + 1):\n",
    "        for j in range(1, max_column + 1):\n",
    "            cell1 = workbook_temporario_sheet.cell(row = i, column = j)\n",
    "            workbook_final_sheet.cell(row = i, column = j).value = cell1.value\n",
    "\n",
    "    # O arquivo Excel original contém \"XXX\" em sua nomenclatura, que a aplicação utiliza como base para inserir a data de execução diretamente na nomenclatura do arquivo final         \n",
    "    arquivo_destino = arquivo_modelo.replace('XXX', data_hoje)\n",
    "    workbook_final.save(filename = dir_destino + '\\\\' + arquivo_destino)"
   ]
  },
  {
   "attachments": {},
   "cell_type": "markdown",
   "metadata": {},
   "source": [
    "# Uso das funções 1 e 2, Fim da Aplicação"
   ]
  },
  {
   "cell_type": "code",
   "execution_count": 10,
   "metadata": {},
   "outputs": [],
   "source": [
    "# Utiliza as funções customizadas acima para realizar o objetivo do projeto, isto é, automatiza a consulta > criação de arquivo temporário > cópia de arquivo modelo com nomenclatura do dia de execução > salvar o arquivo final\n",
    "ConexaoDB_ConfeccaoLicencaTemp(conn_string_server_pri, conn_string_server_sec, 'final.xlsm')\n",
    "resultado_temporario_consulta = arquivo_temporario + 'final.xlsm'\n",
    "\n",
    "Criacao_arquivo_final(arquivo_modelo, resultado_temporario_consulta)"
   ]
  }
 ],
 "metadata": {
  "kernelspec": {
   "display_name": "Python 3",
   "language": "python",
   "name": "python3"
  },
  "language_info": {
   "codemirror_mode": {
    "name": "ipython",
    "version": 3
   },
   "file_extension": ".py",
   "mimetype": "text/x-python",
   "name": "python",
   "nbconvert_exporter": "python",
   "pygments_lexer": "ipython3",
   "version": "3.10.7"
  },
  "orig_nbformat": 4,
  "vscode": {
   "interpreter": {
    "hash": "178b3e80c9db8f54e2acb31d91e54199a8837be0fdaa35cf7429bca94acf3364"
   }
  }
 },
 "nbformat": 4,
 "nbformat_minor": 2
}
