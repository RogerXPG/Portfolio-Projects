{
 "cells": [
  {
   "attachments": {},
   "cell_type": "markdown",
   "metadata": {},
   "source": [
    "# Objetivo Projeto\n",
    "Automatizar o envio de arquivos gerados diariamente pelo sistema para a caixa de entrada dos integrantes da equipe.\n",
    "\n",
    "A equipe se beneficiou com o sucesso do projeto, pois não era mais necessário copiarmos os arquivos no diretório de origem manualmente, e nem envia-los após serem copiados para diretório local. Tarefa essa que demandava tempo e atenção. De alguns integrantes da equipe todos os dias."
   ]
  },
  {
   "attachments": {},
   "cell_type": "markdown",
   "metadata": {},
   "source": [
    "# Identificação Arquivos Em Diretorio"
   ]
  },
  {
   "cell_type": "code",
   "execution_count": null,
   "metadata": {},
   "outputs": [],
   "source": [
    "import os\n",
    "from datetime import datetime as dt\n",
    "\n",
    "lista_final = []\n",
    "assunto_email = 'Copia Arquivos de Sistema'\n",
    "\n",
    "# Armazena a data e hora completa do momento inicial da execução, e formata para \"DIA-MES-ANO\", ex: 01-01-2023\n",
    "now = dt.now()\n",
    "data_hoje = now.strftime('%d-%m-%Y')\n",
    "\n",
    "# Lógica para busca de todos os arquivos presentes no diretório apontado, assim como filtro por data dos mesmos\n",
    "dir_arquivos = r'Z:\\LocalArquivos\\Ficticios'\n",
    "listdir_arquivos = os.listdir(dir_arquivos)\n",
    "\n",
    "for arquivo in listdir_arquivos:\n",
    "    if data_hoje in arquivo:\n",
    "        lista_final.append(arquivo)    \n",
    "\n",
    "if len(lista_final) < 1:\n",
    "    lista_final = None\n",
    "else:\n",
    "    lista_final = lista_final\n",
    "        "
   ]
  },
  {
   "cell_type": "markdown",
   "metadata": {},
   "source": [
    "# SMTP Lib para envio dos arquivos encontrados"
   ]
  },
  {
   "cell_type": "code",
   "execution_count": null,
   "metadata": {},
   "outputs": [],
   "source": [
    "import smtplib\n",
    "from datetime import datetime as dt\n",
    "from email.mime.multipart import MIMEMultipart\n",
    "from email.mime.text import MIMEText\n",
    "import smtplib,ssl\n",
    "from email.mime.multipart import MIMEMultipart\n",
    "from email.mime.base import MIMEBase\n",
    "from email.mime.text import MIMEText\n",
    "from email.utils import formatdate\n",
    "from email import encoders\n",
    "\n",
    "# Faz setup de um servidor SMTP do Office 365 (Outlook)\n",
    "host = \"smtp.office365.com\"\n",
    "port = \"587\"\n",
    "login = \"rogerio@empresa.com.br\"\n",
    "password = \"123456789\"\n",
    "mailTo = [\"membro1@empresa.com.br\",\n",
    "          \"membro2@empresa.com.br\",\n",
    "          \"membro3@empresa.com.br\"]\n",
    "\n",
    "server = smtplib.SMTP(host, port)\n",
    "\n",
    "# Métodos de segurança p/habilitar com sucesso o setup do servidor para envio\n",
    "server.ehlo()\n",
    "server.starttls()\n",
    "\n",
    "# Login efetivo no servidor do Outlook.\n",
    "server.login(login, password)\n",
    "\n",
    "email_msg = MIMEMultipart()\n",
    "email_msg['From'] = login\n",
    "email_msg['To'] = ', '.join(mailTo)\n",
    "email_msg['Subject'] = f\"[{assunto_email}] - {data_hoje}\"\n",
    "\n",
    "# Construir email tipo MIME no servidor SMTP logado previamente\n",
    "bodyMsg = f\"\"\"\n",
    "Seguem arquivos presentes em sistema referentes ao inicio do dia.\n",
    "\"\"\"\n",
    "\n",
    "email_msg.attach(MIMEText(bodyMsg, 'plain'))\n",
    "\n",
    "# Cria o escopo do e-mail, e anexa os arquivos encontrados acima\n",
    "for excel in lista_final:\n",
    "    part = MIMEBase('application', \"octet-stream\")\n",
    "    part.set_payload(open(f\"{dir_arquivos}/{excel}\", \"rb\").read())\n",
    "    encoders.encode_base64(part)\n",
    "    part.add_header('Content-Disposition', 'attachment', filename=excel)\n",
    "    email_msg.attach(part)\n",
    "\n",
    "# Envio efetivo do e-mail\n",
    "server.sendmail(login, mailTo, email_msg.as_string())\n",
    "\n",
    "# Encerra conexão aberta com os servidores do Outlook\n",
    "server.quit()\n",
    "\n",
    "print('Email enviado com sucesso!')\n"
   ]
  }
 ],
 "metadata": {
  "kernelspec": {
   "display_name": "Python 3.10.4 64-bit",
   "language": "python",
   "name": "python3"
  },
  "language_info": {
   "codemirror_mode": {
    "name": "ipython",
    "version": 3
   },
   "file_extension": ".py",
   "mimetype": "text/x-python",
   "name": "python",
   "nbconvert_exporter": "python",
   "pygments_lexer": "ipython3",
   "version": "3.10.7"
  },
  "orig_nbformat": 4,
  "vscode": {
   "interpreter": {
    "hash": "178b3e80c9db8f54e2acb31d91e54199a8837be0fdaa35cf7429bca94acf3364"
   }
  }
 },
 "nbformat": 4,
 "nbformat_minor": 2
}
